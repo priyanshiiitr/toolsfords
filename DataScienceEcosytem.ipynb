{
  "metadata": {
    "kernelspec": {
      "name": "python",
      "display_name": "Python (Pyodide)",
      "language": "python"
    },
    "language_info": {
      "codemirror_mode": {
        "name": "python",
        "version": 3
      },
      "file_extension": ".py",
      "mimetype": "text/x-python",
      "name": "python",
      "nbconvert_exporter": "python",
      "pygments_lexer": "ipython3",
      "version": "3.8"
    }
  },
  "nbformat_minor": 5,
  "nbformat": 4,
  "cells": [
    {
      "id": "5bb4734b-c957-4391-a736-a752983f6a35",
      "cell_type": "markdown",
      "source": "# Data Science Tools and Ecosystems",
      "metadata": {}
    },
    {
      "id": "21e40333-89c5-43bd-a5f1-ec77a917a92d",
      "cell_type": "markdown",
      "source": "\n***In this notebook, Data Science Tools and Ecosystem are summarized.***\n\n",
      "metadata": {}
    },
    {
      "id": "58c64319-2d7a-4b72-a65d-ef862c8bc46e",
      "cell_type": "markdown",
      "source": "Some of the popular languages that Data Scientists use are:\n1. Python\n2. R\n3. SQL\n4. Julia",
      "metadata": {}
    },
    {
      "id": "ed2611ca-92ec-4a7d-bc3e-5217a01543de",
      "cell_type": "markdown",
      "source": "Some of the commonly used libraries used by Data Scientists include:\n1. NumPy\n2. Pandas\n3. Scikit-learn\n4. TensorFlow\n5. Matplotlib\n",
      "metadata": {}
    },
    {
      "id": "18c6850f-c0a9-48e8-9072-e861f9081794",
      "cell_type": "markdown",
      "source": "| Data Science Tools |\n|--------------------|\n| Jupyter Notebook  |\n| RStudio          |\n| VS Code         |",
      "metadata": {}
    },
    {
      "id": "ed5d744d-f9d0-45e5-9db5-1be86e728037",
      "cell_type": "markdown",
      "source": "### Below are a few examples of evaluating arithmetic expressions in Python.",
      "metadata": {}
    },
    {
      "id": "55d983b2-1eb3-43bf-ad40-00c09051760b",
      "cell_type": "code",
      "source": "# This a simple arithmetic expression to multiply then add integers\n(3 * 4) + 5  ",
      "metadata": {
        "trusted": true
      },
      "outputs": [
        {
          "execution_count": 5,
          "output_type": "execute_result",
          "data": {
            "text/plain": "17"
          },
          "metadata": {}
        }
      ],
      "execution_count": 5
    },
    {
      "id": "356361b7-b408-4852-804c-c41e51e6bb77",
      "cell_type": "code",
      "source": "# This will convert 200 minutes to hours by dividing by 60\n200 / 60 ",
      "metadata": {
        "trusted": true
      },
      "outputs": [
        {
          "execution_count": 6,
          "output_type": "execute_result",
          "data": {
            "text/plain": "3.3333333333333335"
          },
          "metadata": {}
        }
      ],
      "execution_count": 6
    },
    {
      "id": "76e532b3-5afd-4dbb-b7bc-eb415df7b9e8",
      "cell_type": "markdown",
      "source": "**Objectives:**\n- List popular languages for Data Science\n- Identify commonly used libraries in Data Science\n- Explore different open-source tools for Data Science\n- Perform basic arithmetic operations in Python\n- Convert time units using Python expressions",
      "metadata": {}
    },
    {
      "id": "0ff8a90e-0c27-41eb-babf-9e26479e6af8",
      "cell_type": "markdown",
      "source": "## Author\nPriyansh Agarwal",
      "metadata": {}
    },
    {
      "id": "81428e73-5688-4d8c-b816-dc94b6e22d37",
      "cell_type": "code",
      "source": "",
      "metadata": {
        "trusted": true
      },
      "outputs": [],
      "execution_count": null
    }
  ]
}